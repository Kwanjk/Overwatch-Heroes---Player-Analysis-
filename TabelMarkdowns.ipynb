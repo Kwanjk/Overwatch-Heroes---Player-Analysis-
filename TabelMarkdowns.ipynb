{
 "cells": [
  {
   "cell_type": "markdown",
   "id": "e99273b3-791b-4f07-aa00-aa7a7ae30dfd",
   "metadata": {},
   "source": [
    "## This is mainly for my own reference to make writing on Medium easier "
   ]
  },
  {
   "cell_type": "markdown",
   "id": "2587413f-4142-4cd3-8523-4e1d6160844b",
   "metadata": {},
   "source": [
    "### **2.2 Dataset Overview (Updated to Include Wildcard Tank: Ramattra)**\n",
    "\n",
    "To model psychological similarity, a custom dataset was constructed using nine Overwatch heroes. Each hero is represented not by win rate or damage output, but by cognitive and behavioral attributes such as **mobility, self-sustain, mechanical complexity, durability (HP), and role encoding**. These values were derived from Blizzard documentation and community difficulty metrics, with Kaggle hero trend data reviewed for validation of psychological coherence (not for numerical extraction).\n",
    "\n",
    "| Hero        | Mobility | Self-Sustain | Mechanical Skill | HP  | Damage | Support | Tank |\n",
    "|-------------|----------|--------------|------------------|-----|--------|---------|------|\n",
    "| **Genji**   | 9        | 3            | 9                | 200 | 1      | 0       | 0    |\n",
    "| **Hanzo**   | 7        | 2            | 8                | 200 | 1      | 0       | 0    |\n",
    "| **Mercy**   | 4        | 1            | 5                | 200 | 0      | 1       | 0    |\n",
    "| **Ana**     | 3        | 5            | 9                | 200 | 0      | 1       | 0    |\n",
    "| **Kiriko**  | 8        | 7            | 6                | 200 | 0      | 1       | 0    |\n",
    "| **Reinhardt** | 3      | 1            | 5                | 550 | 0      | 0       | 1    |\n",
    "| **Zarya**   | 4        | 6            | 7                | 475 | 0      | 0       | 1    |\n",
    "| **Ramattra** | 5       | 7            | 7                | 450 | 0      | 0       | 1    |\n",
    "| **Tracer**  | 10       | 1            | 6                | 150 | 1      | 0       | 0    |\n",
    "\n",
    "Ramattra was included as a **wildcard tank** due to his dual-form design, which oscillates between protection and aggression—offering a psychological bridge between mastery-driven and protector-driven mindsets.\n"
   ]
  },
  {
   "cell_type": "code",
   "execution_count": 7,
   "id": "e5e2248d-937e-40a5-91a7-0d1e4e05393b",
   "metadata": {},
   "outputs": [],
   "source": [
    "# Save DataFrame as HTML (keeps Jupyter style)\n",
    "html_table = df.to_html()\n",
    "\n",
    "with open(\"overwatch_table.html\", \"w\") as file:\n",
    "    file.write(html_table)"
   ]
  },
  {
   "cell_type": "markdown",
   "id": "d692b99f-af53-4d04-9ca1-a3bfd6e2391c",
   "metadata": {},
   "source": [
    "| Hero        | Mobility | Self-Sustain | Mechanical Skill | HP  | Damage | Support | Tank |\n",
    "|-------------|----------|--------------|------------------|-----|--------|---------|------|\n",
    "| **Genji**    | 9        | 3            | 9                | 200 | 1      | 0       | 0    |\n",
    "| **Hanzo**    | 7        | 2            | 8                | 200 | 1      | 0       | 0    |\n",
    "| **Mercy**    | 4        | 1            | 5                | 200 | 0      | 1       | 0    |\n",
    "| **Ana**      | 3        | 5            | 9                | 200 | 0      | 1       | 0    |\n",
    "| **Kiriko**   | 8        | 7            | 6                | 200 | 0      | 1       | 0    |\n",
    "| **Reinhardt**| 3        | 1            | 5                | 550 | 0      | 0       | 1    |\n",
    "| **Zarya**    | 4        | 6            | 7                | 475 | 0      | 0       | 1    |\n",
    "| **Tracer**   | 10       | 1            | 6                | 150 | 1      | 0       | 0    |\n"
   ]
  },
  {
   "cell_type": "markdown",
   "id": "7c85fddc-0f6f-46a3-bc51-18ea3db0d028",
   "metadata": {},
   "source": [
    "| **Archetype**            | **Heroes Included** | **Symbolic Mindset**                     |\n",
    "| ------------------------ | ------------------- | ---------------------------------------- |\n",
    "| **Solo Mastery Seekers** | Genji, Hanzo        | Precision under risk, individual mastery |\n",
    "| **Healer Psyches**       | Mercy, Ana, Kiriko  | Responsibility, trust, adaptive care     |\n",
    "| **Protector Guardians**  | Reinhardt, Zarya    | Leadership through endurance             |\n",
    "| **Wildcard Instinct**    | Tracer              | Instinctive survival, chaos by choice    |\n"
   ]
  },
  {
   "cell_type": "markdown",
   "id": "70070bda-4ac8-4f0e-990a-994c92f80e6d",
   "metadata": {},
   "source": [
    "| **Feature**                  | **Definition**                                 | **Psychological Interpretation**                |\n",
    "| ---------------------------- | ---------------------------------------------- | ----------------------------------------------- |\n",
    "| **Mobility**                 | Ability to reposition or escape                | Fear of entrapment vs preference for space      |\n",
    "| **Self-Sustain**             | Access to personal healing or invulnerability  | Desire for safety vs acceptance of mortal risk  |\n",
    "| **Mechanical Skill Ceiling** | Required precision, timing, execution          | Comfort with high cognitive pressure            |\n",
    "| **HP / Durability**          | Base health pool (excluding armor/shields)     | Willingness to absorb pressure or shield others |\n",
    "| **Role Encoding**            | Binary role identity (Damage / Support / Tank) | Motivational purpose: self, ally, or team       |\n"
   ]
  },
  {
   "cell_type": "markdown",
   "id": "1dae2fdc-4b0f-487f-84ce-04159ec48b13",
   "metadata": {},
   "source": [
    "| Hero        | Mobility | Self-Sustain | Mechanical Skill | HP  | Damage | Support | Tank |\n",
    "|-------------|----------|--------------|------------------|-----|--------|---------|------|\n",
    "| **Genji**    | 9        | 3            | 9                | 200 | 1      | 0       | 0    |\n",
    "| **Hanzo**    | 7        | 2            | 8                | 200 | 1      | 0       | 0    |\n",
    "| **Mercy**    | 4        | 1            | 5                | 200 | 0      | 1       | 0    |\n",
    "| **Ana**      | 3        | 5            | 9                | 200 | 0      | 1       | 0    |\n",
    "| **Kiriko**   | 8        | 7            | 6                | 200 | 0      | 1       | 0    |\n",
    "| **Reinhardt**| 3        | 1            | 5                | 550 | 0      | 0       | 1    |\n",
    "| **Zarya**    | 4        | 6            | 7                | 475 | 0      | 0       | 1    |\n",
    "| **Tracer**   | 10       | 1            | 6                | 150 | 1      | 0       | 0    |\n"
   ]
  },
  {
   "cell_type": "markdown",
   "id": "c4570583-b897-40ec-ac59-74c1434b7cce",
   "metadata": {},
   "source": [
    "| Archetype               | Heroes Used          | Query Purpose                                    |\n",
    "| ----------------------- | -------------------- | ------------------------------------------------ |\n",
    "| **Solo Mastery Seeker** | Genji + Hanzo        | Identifies mastery-driven DPS cluster            |\n",
    "| **Healer Psyche**       | Mercy + Ana + Kiriko | Identifies care or responsibility-based identity |\n",
    "| **Protector Guardian**  | Reinhardt + Zarya    | Identifies leadership and defensive mindset      |\n"
   ]
  },
  {
   "cell_type": "markdown",
   "id": "91296aa9-97c6-423a-94a4-8920aa08ed44",
   "metadata": {},
   "source": [
    "| Hero     | Similarity Score |\n",
    "|----------|------------------|\n",
    "| **Genji**  | 0.981 |\n",
    "| **Hanzo**  | 0.970 |\n",
    "| **Tracer** | 0.687 |\n",
    "| **Ana**    | -0.189 |\n",
    "| **Kiriko** | -0.361 |\n",
    "| **Zarya**  | -0.485 |\n",
    "| **Mercy**  | -0.562 |\n",
    "| **Reinhardt** | -0.569 |\n"
   ]
  },
  {
   "cell_type": "markdown",
   "id": "129b670d-eb08-42d1-a15c-32e32b22e2d5",
   "metadata": {},
   "source": [
    "| Hero     | Similarity Score |\n",
    "|----------|------------------|\n",
    "| **Kiriko** | 0.749 |\n",
    "| **Ana**    | 0.746 |\n",
    "| **Mercy**  | 0.649 |\n",
    "| **Zarya**  | -0.247 |\n",
    "| **Reinhardt** | -0.368 |\n",
    "| **Tracer** | -0.462 |\n",
    "| **Genji**  | -0.468 |\n",
    "| **Hanzo**  | -0.541 |"
   ]
  },
  {
   "cell_type": "markdown",
   "id": "6eb48773-a6a8-42b7-9881-e16666b0b9f7",
   "metadata": {},
   "source": [
    "| Observation                                            | Analytical Insight                                            |\n",
    "| ------------------------------------------------------ | ------------------------------------------------------------- |\n",
    "| **Kiriko bridges Healer and Mastery clusters**         | Indicates hybrid mindset: care with high mobility             |\n",
    "| **Tracer appears in Mastery cluster**                  | Extreme risk preference despite lower precision               |\n",
    "| **Mercy aligns closest to Protectors among non-tanks** | Suggests conceptual overlap: protection through vulnerability |\n"
   ]
  },
  {
   "attachments": {},
   "cell_type": "markdown",
   "id": "383c420e-03f0-4214-9b7c-aee1d5853172",
   "metadata": {},
   "source": [
    "| Validation Technique         | Outcome                                                                  |\n",
    "| ---------------------------- | ------------------------------------------------------------------------ |\n",
    "| **Cosine Similarity Tables** | Logical grouping of mastery, healer, and protector archetypes            |\n",
    "| **Radar Visualization**      | Distinct psychological shapes between clusters                           |\n",
    "| **Heatmap Consistency**      | Clear separation between DPS mastery and support responsibility mindsets |\n"
   ]
  },
  {
   "cell_type": "markdown",
   "id": "2301b9bb-60bf-4984-a5f9-2afb12b860f4",
   "metadata": {},
   "source": [
    "| Limitation                     | Impact                                             |\n",
    "| ------------------------------ | -------------------------------------------------- |\n",
    "| **Manual feature scoring**     | Introduces researcher interpretation bias          |\n",
    "| **Small hero sample (n=8)**    | Reduces generalization to full roster              |\n",
    "| **No player performance data** | Analysis focuses on design intent, not execution   |\n",
    "| **Static trait modeling**      | Does not account for evolving hero balance patches |\n"
   ]
  },
  {
   "cell_type": "markdown",
   "id": "e59148d5-a424-45e2-920f-2dfddcbac81b",
   "metadata": {},
   "source": [
    "| Hero     | Similarity Score |\n",
    "|----------|------------------|\n",
    "| **Reinhardt** | 0.928 |\n",
    "| **Zarya**     | 0.896 |\n",
    "| **Mercy**     | -0.138 |\n",
    "| **Ana**       | -0.255 |\n",
    "| **Kiriko**    | -0.337 |\n",
    "| **Tracer**    | -0.537 |\n",
    "| **Hanzo**     | -0.548 |\n",
    "| **Genji**     | -0.582 |\n"
   ]
  },
  {
   "cell_type": "markdown",
   "id": "471377cb-405d-4b4e-b895-957e1be30285",
   "metadata": {},
   "source": [
    "| Archetype              | Closest Non-Centroid Match | Key Psychological Parallel              |\n",
    "| ---------------------- | -------------------------- | --------------------------------------- |\n",
    "| **Solo Mastery**       | Tracer                     | Freedom and fragility over safety       |\n",
    "| **Healer Psyche**      | Kiriko                     | Adaptive care via mobility and risk     |\n",
    "| **Protector Guardian** | Mercy                      | Protection through sacrifice, not armor |\n"
   ]
  },
  {
   "cell_type": "markdown",
   "id": "8dc56e98-1cb2-433b-865e-b3db0d4cbbba",
   "metadata": {},
   "source": [
    "| Archetype              | Query Heroes Used  | Player Mindset Represented           |\n",
    "| ---------------------- | ------------------ | ------------------------------------ |\n",
    "| **Solo Mastery**       | Genji, Hanzo       | Precision, autonomy, risk            |\n",
    "| **Healer Psyche**      | Mercy, Ana, Kiriko | Responsibility, protection of others |\n",
    "| **Protector Guardian** | Reinhardt, Zarya   | Endurance, shield-bearing leadership |\n"
   ]
  },
  {
   "cell_type": "markdown",
   "id": "259a9c15-9463-41b5-b568-92f5861e9b93",
   "metadata": {},
   "source": [
    "| File / Folder                        | Description                                     |\n",
    "| ------------------------------------ | ----------------------------------------------- |\n",
    "| `data/overwatch_hero_psychology.csv` | Custom hero dataset (v4 with Ramattra)          |\n",
    "| `analysis.ipynb`                     | Full similarity computation & visual generation |\n",
    "| `outputs/`                           | Similarity tables (CSV & Markdown formats)      |\n",
    "| `visuals/`                           | Radar & heatmap figures used in article         |\n"
   ]
  },
  {
   "cell_type": "markdown",
   "id": "26c9a5d6-b751-4af0-b04c-13d04bc0255d",
   "metadata": {},
   "source": [
    "| Archetype     | Meta-Aligned Heroes             | Insight                                                         |\n",
    "| ------------- | ------------------------------- | --------------------------------------------------------------- |\n",
    "| Mastery       | Cassidy, Widowmaker, Soldier 76 | Players seeking precision avoid support reliance                |\n",
    "| Healer Psyche | Mercy, Ana                      | Support identity rooted in burden and consistency               |\n",
    "| Protector     | Lucio, Mercy                    | Protection extends beyond shields into mobility and team impact |\n"
   ]
  }
 ],
 "metadata": {
  "kernelspec": {
   "display_name": "Python 3 (ipykernel)",
   "language": "python",
   "name": "python3"
  },
  "language_info": {
   "codemirror_mode": {
    "name": "ipython",
    "version": 3
   },
   "file_extension": ".py",
   "mimetype": "text/x-python",
   "name": "python",
   "nbconvert_exporter": "python",
   "pygments_lexer": "ipython3",
   "version": "3.13.7"
  }
 },
 "nbformat": 4,
 "nbformat_minor": 5
}

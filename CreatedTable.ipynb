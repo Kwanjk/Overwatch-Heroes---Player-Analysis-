{
 "cells": [
  {
   "cell_type": "code",
   "execution_count": 3,
   "id": "e8b53151-589b-4d17-9f19-6f82c1e7bb86",
   "metadata": {},
   "outputs": [
    {
     "data": {
      "text/html": [
       "<div>\n",
       "<style scoped>\n",
       "    .dataframe tbody tr th:only-of-type {\n",
       "        vertical-align: middle;\n",
       "    }\n",
       "\n",
       "    .dataframe tbody tr th {\n",
       "        vertical-align: top;\n",
       "    }\n",
       "\n",
       "    .dataframe thead th {\n",
       "        text-align: right;\n",
       "    }\n",
       "</style>\n",
       "<table border=\"1\" class=\"dataframe\">\n",
       "  <thead>\n",
       "    <tr style=\"text-align: right;\">\n",
       "      <th></th>\n",
       "      <th>Hero</th>\n",
       "      <th>Mobility</th>\n",
       "      <th>Self_Sustain</th>\n",
       "      <th>Mechanical_Skill</th>\n",
       "      <th>HP</th>\n",
       "      <th>Damage</th>\n",
       "      <th>Support</th>\n",
       "      <th>Tank</th>\n",
       "    </tr>\n",
       "  </thead>\n",
       "  <tbody>\n",
       "    <tr>\n",
       "      <th>0</th>\n",
       "      <td>Genji</td>\n",
       "      <td>9</td>\n",
       "      <td>3</td>\n",
       "      <td>9</td>\n",
       "      <td>200</td>\n",
       "      <td>1</td>\n",
       "      <td>0</td>\n",
       "      <td>0</td>\n",
       "    </tr>\n",
       "    <tr>\n",
       "      <th>1</th>\n",
       "      <td>Hanzo</td>\n",
       "      <td>7</td>\n",
       "      <td>2</td>\n",
       "      <td>8</td>\n",
       "      <td>200</td>\n",
       "      <td>1</td>\n",
       "      <td>0</td>\n",
       "      <td>0</td>\n",
       "    </tr>\n",
       "    <tr>\n",
       "      <th>2</th>\n",
       "      <td>Mercy</td>\n",
       "      <td>4</td>\n",
       "      <td>1</td>\n",
       "      <td>5</td>\n",
       "      <td>200</td>\n",
       "      <td>0</td>\n",
       "      <td>1</td>\n",
       "      <td>0</td>\n",
       "    </tr>\n",
       "    <tr>\n",
       "      <th>3</th>\n",
       "      <td>Ana</td>\n",
       "      <td>3</td>\n",
       "      <td>5</td>\n",
       "      <td>9</td>\n",
       "      <td>200</td>\n",
       "      <td>0</td>\n",
       "      <td>1</td>\n",
       "      <td>0</td>\n",
       "    </tr>\n",
       "    <tr>\n",
       "      <th>4</th>\n",
       "      <td>Kiriko</td>\n",
       "      <td>8</td>\n",
       "      <td>7</td>\n",
       "      <td>6</td>\n",
       "      <td>200</td>\n",
       "      <td>0</td>\n",
       "      <td>1</td>\n",
       "      <td>0</td>\n",
       "    </tr>\n",
       "    <tr>\n",
       "      <th>5</th>\n",
       "      <td>Reinhardt</td>\n",
       "      <td>3</td>\n",
       "      <td>1</td>\n",
       "      <td>5</td>\n",
       "      <td>550</td>\n",
       "      <td>0</td>\n",
       "      <td>0</td>\n",
       "      <td>1</td>\n",
       "    </tr>\n",
       "    <tr>\n",
       "      <th>6</th>\n",
       "      <td>Zarya</td>\n",
       "      <td>4</td>\n",
       "      <td>6</td>\n",
       "      <td>7</td>\n",
       "      <td>475</td>\n",
       "      <td>0</td>\n",
       "      <td>0</td>\n",
       "      <td>1</td>\n",
       "    </tr>\n",
       "    <tr>\n",
       "      <th>7</th>\n",
       "      <td>Tracer</td>\n",
       "      <td>10</td>\n",
       "      <td>1</td>\n",
       "      <td>6</td>\n",
       "      <td>150</td>\n",
       "      <td>1</td>\n",
       "      <td>0</td>\n",
       "      <td>0</td>\n",
       "    </tr>\n",
       "  </tbody>\n",
       "</table>\n",
       "</div>"
      ],
      "text/plain": [
       "        Hero  Mobility  Self_Sustain  Mechanical_Skill   HP  Damage  Support  \\\n",
       "0      Genji         9             3                 9  200       1        0   \n",
       "1      Hanzo         7             2                 8  200       1        0   \n",
       "2      Mercy         4             1                 5  200       0        1   \n",
       "3        Ana         3             5                 9  200       0        1   \n",
       "4     Kiriko         8             7                 6  200       0        1   \n",
       "5  Reinhardt         3             1                 5  550       0        0   \n",
       "6      Zarya         4             6                 7  475       0        0   \n",
       "7     Tracer        10             1                 6  150       1        0   \n",
       "\n",
       "   Tank  \n",
       "0     0  \n",
       "1     0  \n",
       "2     0  \n",
       "3     0  \n",
       "4     0  \n",
       "5     1  \n",
       "6     1  \n",
       "7     0  "
      ]
     },
     "execution_count": 3,
     "metadata": {},
     "output_type": "execute_result"
    }
   ],
   "source": [
    "import pandas as pd\n",
    "\n",
    "data = {\n",
    "    'Hero': ['Genji','Hanzo','Mercy','Ana','Kiriko','Reinhardt','Zarya','Tracer'],\n",
    "    'Mobility': [9,7,4,3,8,3,4,10],\n",
    "    'Self_Sustain': [3,2,1,5,7,1,6,1],\n",
    "    'Mechanical_Skill': [9,8,5,9,6,5,7,6],\n",
    "    'HP': [200,200,200,200,200,550,475,150],\n",
    "    'Damage': [1,1,0,0,0,0,0,1],\n",
    "    'Support': [0,0,1,1,1,0,0,0],\n",
    "    'Tank': [0,0,0,0,0,1,1,0]\n",
    "}\n",
    "\n",
    "df = pd.DataFrame(data)\n",
    "df"
   ]
  },
  {
   "cell_type": "code",
   "execution_count": 4,
   "id": "cf4a122e-e3be-4dfe-8062-e15dfc8996b1",
   "metadata": {},
   "outputs": [
    {
     "data": {
      "image/png": "[encoded data removed]",
      "text/plain": [
       "<Figure size 800x300 with 1 Axes>"
      ]
     },
     "metadata": {},
     "output_type": "display_data"
    }
   ],
   "source": [
    "# Create figure for table\n",
    "fig, ax = plt.subplots(figsize=(8, 3))\n",
    "ax.axis('off')\n",
    "ax.table(cellText=df.values, colLabels=df.columns, loc='center')\n",
    "\n",
    "# 🔽 Saves file in the SAME folder as your notebook\n",
    "plt.savefig(\"overwatch_table.png\", bbox_inches='tight')\n",
    "plt.show()"
   ]
  },
  {
   "cell_type": "code",
   "execution_count": 5,
   "id": "e5e2248d-937e-40a5-91a7-0d1e4e05393b",
   "metadata": {},
   "outputs": [],
   "source": [
    "# Save DataFrame as HTML (keeps Jupyter style)\n",
    "html_table = df.to_html()\n",
    "\n",
    "with open(\"overwatch_table.html\", \"w\") as file:\n",
    "    file.write(html_table)"
   ]
  },
  {
   "cell_type": "markdown",
   "id": "d692b99f-af53-4d04-9ca1-a3bfd6e2391c",
   "metadata": {},
   "source": [
    "| Hero        | Mobility | Self-Sustain | Mechanical Skill | HP  | Damage | Support | Tank |\n",
    "|-------------|----------|--------------|------------------|-----|--------|---------|------|\n",
    "| **Genji**    | 9        | 3            | 9                | 200 | 1      | 0       | 0    |\n",
    "| **Hanzo**    | 7        | 2            | 8                | 200 | 1      | 0       | 0    |\n",
    "| **Mercy**    | 4        | 1            | 5                | 200 | 0      | 1       | 0    |\n",
    "| **Ana**      | 3        | 5            | 9                | 200 | 0      | 1       | 0    |\n",
    "| **Kiriko**   | 8        | 7            | 6                | 200 | 0      | 1       | 0    |\n",
    "| **Reinhardt**| 3        | 1            | 5                | 550 | 0      | 0       | 1    |\n",
    "| **Zarya**    | 4        | 6            | 7                | 475 | 0      | 0       | 1    |\n",
    "| **Tracer**   | 10       | 1            | 6                | 150 | 1      | 0       | 0    |\n"
   ]
  },
  {
   "cell_type": "markdown",
   "id": "7c85fddc-0f6f-46a3-bc51-18ea3db0d028",
   "metadata": {},
   "source": [
    "| **Archetype**            | **Heroes Included** | **Symbolic Mindset**                     |\n",
    "| ------------------------ | ------------------- | ---------------------------------------- |\n",
    "| **Solo Mastery Seekers** | Genji, Hanzo        | Precision under risk, individual mastery |\n",
    "| **Healer Psyches**       | Mercy, Ana, Kiriko  | Responsibility, trust, adaptive care     |\n",
    "| **Protector Guardians**  | Reinhardt, Zarya    | Leadership through endurance             |\n",
    "| **Wildcard Instinct**    | Tracer              | Instinctive survival, chaos by choice    |\n"
   ]
  },
  {
   "cell_type": "markdown",
   "id": "70070bda-4ac8-4f0e-990a-994c92f80e6d",
   "metadata": {},
   "source": [
    "| **Feature**                  | **Definition**                                 | **Psychological Interpretation**                |\n",
    "| ---------------------------- | ---------------------------------------------- | ----------------------------------------------- |\n",
    "| **Mobility**                 | Ability to reposition or escape                | Fear of entrapment vs preference for space      |\n",
    "| **Self-Sustain**             | Access to personal healing or invulnerability  | Desire for safety vs acceptance of mortal risk  |\n",
    "| **Mechanical Skill Ceiling** | Required precision, timing, execution          | Comfort with high cognitive pressure            |\n",
    "| **HP / Durability**          | Base health pool (excluding armor/shields)     | Willingness to absorb pressure or shield others |\n",
    "| **Role Encoding**            | Binary role identity (Damage / Support / Tank) | Motivational purpose: self, ally, or team       |\n"
   ]
  },
  {
   "cell_type": "markdown",
   "id": "1dae2fdc-4b0f-487f-84ce-04159ec48b13",
   "metadata": {},
   "source": [
    "| Hero        | Mobility | Self-Sustain | Mechanical Skill | HP  | Damage | Support | Tank |\n",
    "|-------------|----------|--------------|------------------|-----|--------|---------|------|\n",
    "| **Genji**    | 9        | 3            | 9                | 200 | 1      | 0       | 0    |\n",
    "| **Hanzo**    | 7        | 2            | 8                | 200 | 1      | 0       | 0    |\n",
    "| **Mercy**    | 4        | 1            | 5                | 200 | 0      | 1       | 0    |\n",
    "| **Ana**      | 3        | 5            | 9                | 200 | 0      | 1       | 0    |\n",
    "| **Kiriko**   | 8        | 7            | 6                | 200 | 0      | 1       | 0    |\n",
    "| **Reinhardt**| 3        | 1            | 5                | 550 | 0      | 0       | 1    |\n",
    "| **Zarya**    | 4        | 6            | 7                | 475 | 0      | 0       | 1    |\n",
    "| **Tracer**   | 10       | 1            | 6                | 150 | 1      | 0       | 0    |\n"
   ]
  },
  {
   "cell_type": "markdown",
   "id": "c4570583-b897-40ec-ac59-74c1434b7cce",
   "metadata": {},
   "source": [
    "| Archetype               | Heroes Used          | Query Purpose                                    |\n",
    "| ----------------------- | -------------------- | ------------------------------------------------ |\n",
    "| **Solo Mastery Seeker** | Genji + Hanzo        | Identifies mastery-driven DPS cluster            |\n",
    "| **Healer Psyche**       | Mercy + Ana + Kiriko | Identifies care or responsibility-based identity |\n",
    "| **Protector Guardian**  | Reinhardt + Zarya    | Identifies leadership and defensive mindset      |\n"
   ]
  },
  {
   "cell_type": "markdown",
   "id": "91296aa9-97c6-423a-94a4-8920aa08ed44",
   "metadata": {},
   "source": [
    "| Hero     | Similarity Score |\n",
    "|----------|------------------|\n",
    "| **Genji**  | 0.981 |\n",
    "| **Hanzo**  | 0.970 |\n",
    "| **Tracer** | 0.687 |\n",
    "| **Ana**    | -0.189 |\n",
    "| **Kiriko** | -0.361 |\n",
    "| **Zarya**  | -0.485 |\n",
    "| **Mercy**  | -0.562 |\n",
    "| **Reinhardt** | -0.569 |\n"
   ]
  },
  {
   "cell_type": "markdown",
   "id": "129b670d-eb08-42d1-a15c-32e32b22e2d5",
   "metadata": {},
   "source": [
    "| Hero     | Similarity Score |\n",
    "|----------|------------------|\n",
    "| **Kiriko** | 0.749 |\n",
    "| **Ana**    | 0.746 |\n",
    "| **Mercy**  | 0.649 |\n",
    "| **Zarya**  | -0.247 |\n",
    "| **Reinhardt** | -0.368 |\n",
    "| **Tracer** | -0.462 |\n",
    "| **Genji**  | -0.468 |\n",
    "| **Hanzo**  | -0.541 |"
   ]
  },
  {
   "cell_type": "markdown",
   "id": "6eb48773-a6a8-42b7-9881-e16666b0b9f7",
   "metadata": {},
   "source": [
    "| Observation                                            | Analytical Insight                                            |\n",
    "| ------------------------------------------------------ | ------------------------------------------------------------- |\n",
    "| **Kiriko bridges Healer and Mastery clusters**         | Indicates hybrid mindset: care with high mobility             |\n",
    "| **Tracer appears in Mastery cluster**                  | Extreme risk preference despite lower precision               |\n",
    "| **Mercy aligns closest to Protectors among non-tanks** | Suggests conceptual overlap: protection through vulnerability |\n"
   ]
  }
 ],
 "metadata": {
  "kernelspec": {
   "display_name": "Python 3 (ipykernel)",
   "language": "python",
   "name": "python3"
  },
  "language_info": {
   "codemirror_mode": {
    "name": "ipython",
    "version": 3
   },
   "file_extension": ".py",
   "mimetype": "text/x-python",
   "name": "python",
   "nbconvert_exporter": "python",
   "pygments_lexer": "ipython3",
   "version": "3.13.7"
  }
 },
 "nbformat": 4,
 "nbformat_minor": 5
}
